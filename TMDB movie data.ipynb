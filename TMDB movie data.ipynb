{
 "cells": [
  {
   "cell_type": "markdown",
   "id": "74aa1fd0",
   "metadata": {},
   "source": [
    "<a id='intro'></a>\n",
    "## Introduction\n",
    "\n",
    "### Dataset Description \n",
    "This data from Kaggle and you can download it from <a href=\"https://www.kaggle.com/deepak525/investigate-tmdb-movie-\">Kaggle dataset</a>\n",
    "\n",
    "This dataset contains information about 10,000 movies collected from The Movie Database (TMDb), including user ratings and revenue.\n",
    "we have here ['id', 'imdb_id', 'popularity', 'budget', 'revenue', 'original_title','cast', 'homepage', 'director', 'tagline', 'keywords', 'overview','runtime', 'genres', 'production_companies', 'release_date','vote_count', 'vote_average', 'release_year', 'budget_adj','revenue_adj']\n",
    "\n",
    "I think we don't need ['homepage','tagline','overview','imdb_id','keywords','budget_adj','revenue_adj','production_companies','popularity','cast','vote_count']\n",
    "\n",
    "we'll use ['budget', 'revenue'] to get the profit and cost of movies, the financial part, ['genres'] column to determine which one is the most common...etc, column ['release_date'] to deal with time and year, column ['vote_average'] to determine which had high, and low vote.\n",
    "\n",
    "### Question(s) for Analysis\n",
    "Q1: Is there a correlation between runtime and average vote?\n",
    "\n",
    "Q2: What is the most common genre? and in the top 100?\n",
    "\n",
    "Q3: Which genre costs the much? and which doesn't?\n",
    "\n",
    "Q4: Is there a correlation between cost and revenue in the top 100?\n",
    "\n",
    "Q5: What is the lowest budget movie in every year for the past 10 years?\n",
    "\n",
    "Q6: What is the highest profit movie on the list?\n"
   ]
  },
  {
   "cell_type": "markdown",
   "id": "0ce8fdec",
   "metadata": {},
   "source": [
    "# Import"
   ]
  },
  {
   "cell_type": "code",
   "execution_count": 2,
   "id": "2818a4df",
   "metadata": {},
   "outputs": [],
   "source": [
    "#Import section\n",
    "import pandas as pd\n",
    "import numpy as np\n",
    "import matplotlib.pyplot as plt\n",
    "from matplotlib.pyplot import figure\n",
    "import collections\n",
    "%matplotlib inline"
   ]
  },
  {
   "cell_type": "markdown",
   "id": "db15c9c4",
   "metadata": {},
   "source": [
    "# Data Overview"
   ]
  },
  {
   "cell_type": "code",
   "execution_count": 3,
   "id": "1fad7848",
   "metadata": {},
   "outputs": [
    {
     "name": "stdout",
     "output_type": "stream",
     "text": [
      "<class 'pandas.core.frame.DataFrame'>\n",
      "RangeIndex: 10866 entries, 0 to 10865\n",
      "Data columns (total 21 columns):\n",
      " #   Column                Non-Null Count  Dtype  \n",
      "---  ------                --------------  -----  \n",
      " 0   id                    10866 non-null  int64  \n",
      " 1   imdb_id               10856 non-null  object \n",
      " 2   popularity            10866 non-null  float64\n",
      " 3   budget                10866 non-null  int64  \n",
      " 4   revenue               10866 non-null  int64  \n",
      " 5   original_title        10866 non-null  object \n",
      " 6   cast                  10790 non-null  object \n",
      " 7   homepage              2936 non-null   object \n",
      " 8   director              10822 non-null  object \n",
      " 9   tagline               8042 non-null   object \n",
      " 10  keywords              9373 non-null   object \n",
      " 11  overview              10862 non-null  object \n",
      " 12  runtime               10866 non-null  int64  \n",
      " 13  genres                10843 non-null  object \n",
      " 14  production_companies  9836 non-null   object \n",
      " 15  release_date          10866 non-null  object \n",
      " 16  vote_count            10866 non-null  int64  \n",
      " 17  vote_average          10866 non-null  float64\n",
      " 18  release_year          10866 non-null  int64  \n",
      " 19  budget_adj            10866 non-null  float64\n",
      " 20  revenue_adj           10866 non-null  float64\n",
      "dtypes: float64(4), int64(6), object(11)\n",
      "memory usage: 1.7+ MB\n"
     ]
    }
   ],
   "source": [
    "# Load your data and print out a few lines. Perform operations to inspect data\n",
    "# types and look for instances of missing or possibly errant data.\n",
    "df = pd.read_csv('tmdb-movies.csv',engine='python')\n",
    "df.info()"
   ]
  },
  {
   "cell_type": "markdown",
   "id": "270057cd",
   "metadata": {},
   "source": [
    "# Clean Data"
   ]
  },
  {
   "cell_type": "markdown",
   "id": "781c40d0",
   "metadata": {},
   "source": [
    "## Drop unnecessary columns"
   ]
  },
  {
   "cell_type": "code",
   "execution_count": 3,
   "id": "e6059fcf",
   "metadata": {
    "scrolled": true
   },
   "outputs": [
    {
     "data": {
      "text/html": [
       "<div>\n",
       "<style scoped>\n",
       "    .dataframe tbody tr th:only-of-type {\n",
       "        vertical-align: middle;\n",
       "    }\n",
       "\n",
       "    .dataframe tbody tr th {\n",
       "        vertical-align: top;\n",
       "    }\n",
       "\n",
       "    .dataframe thead th {\n",
       "        text-align: right;\n",
       "    }\n",
       "</style>\n",
       "<table border=\"1\" class=\"dataframe\">\n",
       "  <thead>\n",
       "    <tr style=\"text-align: right;\">\n",
       "      <th></th>\n",
       "      <th>id</th>\n",
       "      <th>budget</th>\n",
       "      <th>revenue</th>\n",
       "      <th>original_title</th>\n",
       "      <th>director</th>\n",
       "      <th>runtime</th>\n",
       "      <th>genres</th>\n",
       "      <th>release_date</th>\n",
       "      <th>vote_average</th>\n",
       "      <th>release_year</th>\n",
       "    </tr>\n",
       "  </thead>\n",
       "  <tbody>\n",
       "    <tr>\n",
       "      <th>0</th>\n",
       "      <td>135397</td>\n",
       "      <td>150000000</td>\n",
       "      <td>1513528810</td>\n",
       "      <td>Jurassic World</td>\n",
       "      <td>Colin Trevorrow</td>\n",
       "      <td>124</td>\n",
       "      <td>Action|Adventure|Science Fiction|Thriller</td>\n",
       "      <td>6/9/15</td>\n",
       "      <td>6.5</td>\n",
       "      <td>2015</td>\n",
       "    </tr>\n",
       "    <tr>\n",
       "      <th>1</th>\n",
       "      <td>76341</td>\n",
       "      <td>150000000</td>\n",
       "      <td>378436354</td>\n",
       "      <td>Mad Max: Fury Road</td>\n",
       "      <td>George Miller</td>\n",
       "      <td>120</td>\n",
       "      <td>Action|Adventure|Science Fiction|Thriller</td>\n",
       "      <td>5/13/15</td>\n",
       "      <td>7.1</td>\n",
       "      <td>2015</td>\n",
       "    </tr>\n",
       "    <tr>\n",
       "      <th>2</th>\n",
       "      <td>262500</td>\n",
       "      <td>110000000</td>\n",
       "      <td>295238201</td>\n",
       "      <td>Insurgent</td>\n",
       "      <td>Robert Schwentke</td>\n",
       "      <td>119</td>\n",
       "      <td>Adventure|Science Fiction|Thriller</td>\n",
       "      <td>3/18/15</td>\n",
       "      <td>6.3</td>\n",
       "      <td>2015</td>\n",
       "    </tr>\n",
       "    <tr>\n",
       "      <th>3</th>\n",
       "      <td>140607</td>\n",
       "      <td>200000000</td>\n",
       "      <td>2068178225</td>\n",
       "      <td>Star Wars: The Force Awakens</td>\n",
       "      <td>J.J. Abrams</td>\n",
       "      <td>136</td>\n",
       "      <td>Action|Adventure|Science Fiction|Fantasy</td>\n",
       "      <td>12/15/15</td>\n",
       "      <td>7.5</td>\n",
       "      <td>2015</td>\n",
       "    </tr>\n",
       "    <tr>\n",
       "      <th>4</th>\n",
       "      <td>168259</td>\n",
       "      <td>190000000</td>\n",
       "      <td>1506249360</td>\n",
       "      <td>Furious 7</td>\n",
       "      <td>James Wan</td>\n",
       "      <td>137</td>\n",
       "      <td>Action|Crime|Thriller</td>\n",
       "      <td>4/1/15</td>\n",
       "      <td>7.3</td>\n",
       "      <td>2015</td>\n",
       "    </tr>\n",
       "  </tbody>\n",
       "</table>\n",
       "</div>"
      ],
      "text/plain": [
       "       id     budget     revenue                original_title  \\\n",
       "0  135397  150000000  1513528810                Jurassic World   \n",
       "1   76341  150000000   378436354            Mad Max: Fury Road   \n",
       "2  262500  110000000   295238201                     Insurgent   \n",
       "3  140607  200000000  2068178225  Star Wars: The Force Awakens   \n",
       "4  168259  190000000  1506249360                     Furious 7   \n",
       "\n",
       "           director  runtime                                     genres  \\\n",
       "0   Colin Trevorrow      124  Action|Adventure|Science Fiction|Thriller   \n",
       "1     George Miller      120  Action|Adventure|Science Fiction|Thriller   \n",
       "2  Robert Schwentke      119         Adventure|Science Fiction|Thriller   \n",
       "3       J.J. Abrams      136   Action|Adventure|Science Fiction|Fantasy   \n",
       "4         James Wan      137                      Action|Crime|Thriller   \n",
       "\n",
       "  release_date  vote_average  release_year  \n",
       "0       6/9/15           6.5          2015  \n",
       "1      5/13/15           7.1          2015  \n",
       "2      3/18/15           6.3          2015  \n",
       "3     12/15/15           7.5          2015  \n",
       "4       4/1/15           7.3          2015  "
      ]
     },
     "execution_count": 3,
     "metadata": {},
     "output_type": "execute_result"
    }
   ],
   "source": [
    "#first I'll drop the columns that I don't need\n",
    "df = df.drop(['homepage','tagline','overview','imdb_id','keywords','budget_adj','revenue_adj','production_companies','popularity','cast','vote_count'], axis = 1)\n",
    "df.head()"
   ]
  },
  {
   "cell_type": "markdown",
   "id": "1273b558",
   "metadata": {},
   "source": [
    "## Drop NaN"
   ]
  },
  {
   "cell_type": "code",
   "execution_count": 4,
   "id": "3c45c461",
   "metadata": {},
   "outputs": [
    {
     "data": {
      "text/plain": [
       "id                 0\n",
       "budget             0\n",
       "revenue            0\n",
       "original_title     0\n",
       "director          44\n",
       "runtime            0\n",
       "genres            23\n",
       "release_date       0\n",
       "vote_average       0\n",
       "release_year       0\n",
       "dtype: int64"
      ]
     },
     "execution_count": 4,
     "metadata": {},
     "output_type": "execute_result"
    }
   ],
   "source": [
    "#now lets see the NAN vulaes\n",
    "df.isnull().sum()"
   ]
  },
  {
   "cell_type": "code",
   "execution_count": 5,
   "id": "e53620d2",
   "metadata": {},
   "outputs": [
    {
     "data": {
      "text/plain": [
       "id                0\n",
       "budget            0\n",
       "revenue           0\n",
       "original_title    0\n",
       "director          0\n",
       "runtime           0\n",
       "genres            0\n",
       "release_date      0\n",
       "vote_average      0\n",
       "release_year      0\n",
       "dtype: int64"
      ]
     },
     "execution_count": 5,
     "metadata": {},
     "output_type": "execute_result"
    }
   ],
   "source": [
    "#now lets drop the null values we can't fill it with mean or any data\n",
    "df.dropna(inplace = True)\n",
    "#check if we still have null\n",
    "df.isnull().sum()"
   ]
  },
  {
   "cell_type": "markdown",
   "id": "cbbe204a",
   "metadata": {},
   "source": [
    "## Clean Duplicated"
   ]
  },
  {
   "cell_type": "code",
   "execution_count": 6,
   "id": "fa01832a",
   "metadata": {},
   "outputs": [
    {
     "data": {
      "text/plain": [
       "1"
      ]
     },
     "execution_count": 6,
     "metadata": {},
     "output_type": "execute_result"
    }
   ],
   "source": [
    "#duplicated rows time\n",
    "#let's check it first\n",
    "sum(df.duplicated())"
   ]
  },
  {
   "cell_type": "code",
   "execution_count": 7,
   "id": "d014d02c",
   "metadata": {},
   "outputs": [
    {
     "data": {
      "text/plain": [
       "0"
      ]
     },
     "execution_count": 7,
     "metadata": {},
     "output_type": "execute_result"
    }
   ],
   "source": [
    "#we have one, I prefer dropping it \n",
    "df.drop_duplicates(inplace = True)\n",
    "#let;s check if we are done\n",
    "sum(df.duplicated())"
   ]
  },
  {
   "cell_type": "markdown",
   "id": "7ff83495",
   "metadata": {},
   "source": [
    "## Fix Data Type"
   ]
  },
  {
   "cell_type": "code",
   "execution_count": 8,
   "id": "19dcbd30",
   "metadata": {},
   "outputs": [],
   "source": [
    "#now time data type and we are going to fix 'release_date' column\n",
    "df['release_date'] = pd.to_datetime(df['release_date'])\n",
    "df['release_date_1'] = df['release_date'].dt.day.astype(str) + \"-\" + df['release_date'].dt.month.astype(str) + \"-\" + df['release_year'].astype(str)\n",
    "df['release_date_1'] = pd.to_datetime(df['release_date_1'])\n",
    "df.drop(['release_date','release_year'],axis = 1,inplace = True)\n",
    "df.rename(columns = {'release_date_1' : 'release_date'},inplace = True)"
   ]
  },
  {
   "cell_type": "code",
   "execution_count": 9,
   "id": "3e961cdb",
   "metadata": {},
   "outputs": [
    {
     "data": {
      "text/html": [
       "<div>\n",
       "<style scoped>\n",
       "    .dataframe tbody tr th:only-of-type {\n",
       "        vertical-align: middle;\n",
       "    }\n",
       "\n",
       "    .dataframe tbody tr th {\n",
       "        vertical-align: top;\n",
       "    }\n",
       "\n",
       "    .dataframe thead th {\n",
       "        text-align: right;\n",
       "    }\n",
       "</style>\n",
       "<table border=\"1\" class=\"dataframe\">\n",
       "  <thead>\n",
       "    <tr style=\"text-align: right;\">\n",
       "      <th></th>\n",
       "      <th>id</th>\n",
       "      <th>budget</th>\n",
       "      <th>revenue</th>\n",
       "      <th>original_title</th>\n",
       "      <th>director</th>\n",
       "      <th>runtime</th>\n",
       "      <th>genres</th>\n",
       "      <th>vote_average</th>\n",
       "      <th>release_date</th>\n",
       "    </tr>\n",
       "  </thead>\n",
       "  <tbody>\n",
       "    <tr>\n",
       "      <th>0</th>\n",
       "      <td>135397</td>\n",
       "      <td>150000000</td>\n",
       "      <td>1513528810</td>\n",
       "      <td>Jurassic World</td>\n",
       "      <td>Colin Trevorrow</td>\n",
       "      <td>124</td>\n",
       "      <td>Action|Adventure|Science Fiction|Thriller</td>\n",
       "      <td>6.5</td>\n",
       "      <td>2015-09-06</td>\n",
       "    </tr>\n",
       "    <tr>\n",
       "      <th>1</th>\n",
       "      <td>76341</td>\n",
       "      <td>150000000</td>\n",
       "      <td>378436354</td>\n",
       "      <td>Mad Max: Fury Road</td>\n",
       "      <td>George Miller</td>\n",
       "      <td>120</td>\n",
       "      <td>Action|Adventure|Science Fiction|Thriller</td>\n",
       "      <td>7.1</td>\n",
       "      <td>2015-05-13</td>\n",
       "    </tr>\n",
       "    <tr>\n",
       "      <th>2</th>\n",
       "      <td>262500</td>\n",
       "      <td>110000000</td>\n",
       "      <td>295238201</td>\n",
       "      <td>Insurgent</td>\n",
       "      <td>Robert Schwentke</td>\n",
       "      <td>119</td>\n",
       "      <td>Adventure|Science Fiction|Thriller</td>\n",
       "      <td>6.3</td>\n",
       "      <td>2015-03-18</td>\n",
       "    </tr>\n",
       "    <tr>\n",
       "      <th>3</th>\n",
       "      <td>140607</td>\n",
       "      <td>200000000</td>\n",
       "      <td>2068178225</td>\n",
       "      <td>Star Wars: The Force Awakens</td>\n",
       "      <td>J.J. Abrams</td>\n",
       "      <td>136</td>\n",
       "      <td>Action|Adventure|Science Fiction|Fantasy</td>\n",
       "      <td>7.5</td>\n",
       "      <td>2015-12-15</td>\n",
       "    </tr>\n",
       "    <tr>\n",
       "      <th>4</th>\n",
       "      <td>168259</td>\n",
       "      <td>190000000</td>\n",
       "      <td>1506249360</td>\n",
       "      <td>Furious 7</td>\n",
       "      <td>James Wan</td>\n",
       "      <td>137</td>\n",
       "      <td>Action|Crime|Thriller</td>\n",
       "      <td>7.3</td>\n",
       "      <td>2015-01-04</td>\n",
       "    </tr>\n",
       "  </tbody>\n",
       "</table>\n",
       "</div>"
      ],
      "text/plain": [
       "       id     budget     revenue                original_title  \\\n",
       "0  135397  150000000  1513528810                Jurassic World   \n",
       "1   76341  150000000   378436354            Mad Max: Fury Road   \n",
       "2  262500  110000000   295238201                     Insurgent   \n",
       "3  140607  200000000  2068178225  Star Wars: The Force Awakens   \n",
       "4  168259  190000000  1506249360                     Furious 7   \n",
       "\n",
       "           director  runtime                                     genres  \\\n",
       "0   Colin Trevorrow      124  Action|Adventure|Science Fiction|Thriller   \n",
       "1     George Miller      120  Action|Adventure|Science Fiction|Thriller   \n",
       "2  Robert Schwentke      119         Adventure|Science Fiction|Thriller   \n",
       "3       J.J. Abrams      136   Action|Adventure|Science Fiction|Fantasy   \n",
       "4         James Wan      137                      Action|Crime|Thriller   \n",
       "\n",
       "   vote_average release_date  \n",
       "0           6.5   2015-09-06  \n",
       "1           7.1   2015-05-13  \n",
       "2           6.3   2015-03-18  \n",
       "3           7.5   2015-12-15  \n",
       "4           7.3   2015-01-04  "
      ]
     },
     "execution_count": 9,
     "metadata": {},
     "output_type": "execute_result"
    }
   ],
   "source": [
    "df.head()"
   ]
  },
  {
   "cell_type": "code",
   "execution_count": 10,
   "id": "254c4329",
   "metadata": {},
   "outputs": [
    {
     "data": {
      "text/html": [
       "<div>\n",
       "<style scoped>\n",
       "    .dataframe tbody tr th:only-of-type {\n",
       "        vertical-align: middle;\n",
       "    }\n",
       "\n",
       "    .dataframe tbody tr th {\n",
       "        vertical-align: top;\n",
       "    }\n",
       "\n",
       "    .dataframe thead th {\n",
       "        text-align: right;\n",
       "    }\n",
       "</style>\n",
       "<table border=\"1\" class=\"dataframe\">\n",
       "  <thead>\n",
       "    <tr style=\"text-align: right;\">\n",
       "      <th></th>\n",
       "      <th>genre_1</th>\n",
       "      <th>genre_2</th>\n",
       "      <th>genre_3</th>\n",
       "      <th>genre_4</th>\n",
       "      <th>genre_5</th>\n",
       "      <th>original_title</th>\n",
       "    </tr>\n",
       "  </thead>\n",
       "  <tbody>\n",
       "    <tr>\n",
       "      <th>0</th>\n",
       "      <td>Action</td>\n",
       "      <td>Adventure</td>\n",
       "      <td>Science Fiction</td>\n",
       "      <td>Thriller</td>\n",
       "      <td>None</td>\n",
       "      <td>Jurassic World</td>\n",
       "    </tr>\n",
       "    <tr>\n",
       "      <th>1</th>\n",
       "      <td>Action</td>\n",
       "      <td>Adventure</td>\n",
       "      <td>Science Fiction</td>\n",
       "      <td>Thriller</td>\n",
       "      <td>None</td>\n",
       "      <td>Mad Max: Fury Road</td>\n",
       "    </tr>\n",
       "    <tr>\n",
       "      <th>2</th>\n",
       "      <td>Adventure</td>\n",
       "      <td>Science Fiction</td>\n",
       "      <td>Thriller</td>\n",
       "      <td>None</td>\n",
       "      <td>None</td>\n",
       "      <td>Insurgent</td>\n",
       "    </tr>\n",
       "    <tr>\n",
       "      <th>3</th>\n",
       "      <td>Action</td>\n",
       "      <td>Adventure</td>\n",
       "      <td>Science Fiction</td>\n",
       "      <td>Fantasy</td>\n",
       "      <td>None</td>\n",
       "      <td>Star Wars: The Force Awakens</td>\n",
       "    </tr>\n",
       "    <tr>\n",
       "      <th>4</th>\n",
       "      <td>Action</td>\n",
       "      <td>Crime</td>\n",
       "      <td>Thriller</td>\n",
       "      <td>None</td>\n",
       "      <td>None</td>\n",
       "      <td>Furious 7</td>\n",
       "    </tr>\n",
       "  </tbody>\n",
       "</table>\n",
       "</div>"
      ],
      "text/plain": [
       "     genre_1          genre_2          genre_3   genre_4 genre_5  \\\n",
       "0     Action        Adventure  Science Fiction  Thriller    None   \n",
       "1     Action        Adventure  Science Fiction  Thriller    None   \n",
       "2  Adventure  Science Fiction         Thriller      None    None   \n",
       "3     Action        Adventure  Science Fiction   Fantasy    None   \n",
       "4     Action            Crime         Thriller      None    None   \n",
       "\n",
       "                 original_title  \n",
       "0                Jurassic World  \n",
       "1            Mad Max: Fury Road  \n",
       "2                     Insurgent  \n",
       "3  Star Wars: The Force Awakens  \n",
       "4                     Furious 7  "
      ]
     },
     "execution_count": 10,
     "metadata": {},
     "output_type": "execute_result"
    }
   ],
   "source": [
    "# now let's deal with the 'genres' column\n",
    "# I prefer to deal with it in separate df\n",
    "# to avoid extending the original df with no need to it, we only need genres and movie names and its revenue\n",
    "df_genres = df['genres'].str.split('|',expand = True).join(df['original_title'])\n",
    "#I think we should change the columns name\n",
    "df_genres.rename(columns = {0:'genre_1',1:'genre_2',2:'genre_3',3:'genre_4',4:'genre_5'},inplace = True)\n",
    "df_genres.head()"
   ]
  },
  {
   "cell_type": "code",
   "execution_count": 11,
   "id": "4683909b",
   "metadata": {
    "scrolled": false
   },
   "outputs": [
    {
     "name": "stdout",
     "output_type": "stream",
     "text": [
      "<class 'pandas.core.frame.DataFrame'>\n",
      "Int64Index: 10800 entries, 0 to 10865\n",
      "Data columns (total 9 columns):\n",
      " #   Column          Non-Null Count  Dtype         \n",
      "---  ------          --------------  -----         \n",
      " 0   id              10800 non-null  int64         \n",
      " 1   budget          10800 non-null  int64         \n",
      " 2   revenue         10800 non-null  int64         \n",
      " 3   original_title  10800 non-null  object        \n",
      " 4   director        10800 non-null  object        \n",
      " 5   runtime         10800 non-null  int64         \n",
      " 6   genres          10800 non-null  object        \n",
      " 7   vote_average    10800 non-null  float64       \n",
      " 8   release_date    10800 non-null  datetime64[ns]\n",
      "dtypes: datetime64[ns](1), float64(1), int64(4), object(3)\n",
      "memory usage: 1.1+ MB\n"
     ]
    }
   ],
   "source": [
    "df.info()"
   ]
  },
  {
   "cell_type": "markdown",
   "id": "21e1bdb4",
   "metadata": {},
   "source": [
    "## Replace Zeros"
   ]
  },
  {
   "cell_type": "code",
   "execution_count": 12,
   "id": "9d020200",
   "metadata": {
    "scrolled": true
   },
   "outputs": [
    {
     "data": {
      "text/html": [
       "<div>\n",
       "<style scoped>\n",
       "    .dataframe tbody tr th:only-of-type {\n",
       "        vertical-align: middle;\n",
       "    }\n",
       "\n",
       "    .dataframe tbody tr th {\n",
       "        vertical-align: top;\n",
       "    }\n",
       "\n",
       "    .dataframe thead th {\n",
       "        text-align: right;\n",
       "    }\n",
       "</style>\n",
       "<table border=\"1\" class=\"dataframe\">\n",
       "  <thead>\n",
       "    <tr style=\"text-align: right;\">\n",
       "      <th></th>\n",
       "      <th>id</th>\n",
       "      <th>budget</th>\n",
       "      <th>revenue</th>\n",
       "      <th>runtime</th>\n",
       "      <th>vote_average</th>\n",
       "    </tr>\n",
       "  </thead>\n",
       "  <tbody>\n",
       "    <tr>\n",
       "      <th>count</th>\n",
       "      <td>10800.000000</td>\n",
       "      <td>1.080000e+04</td>\n",
       "      <td>1.080000e+04</td>\n",
       "      <td>10800.000000</td>\n",
       "      <td>10800.000000</td>\n",
       "    </tr>\n",
       "    <tr>\n",
       "      <th>mean</th>\n",
       "      <td>65576.183426</td>\n",
       "      <td>1.471114e+07</td>\n",
       "      <td>4.006558e+07</td>\n",
       "      <td>102.189722</td>\n",
       "      <td>5.970880</td>\n",
       "    </tr>\n",
       "    <tr>\n",
       "      <th>std</th>\n",
       "      <td>91756.079939</td>\n",
       "      <td>3.098677e+07</td>\n",
       "      <td>1.173193e+08</td>\n",
       "      <td>30.783873</td>\n",
       "      <td>0.933006</td>\n",
       "    </tr>\n",
       "    <tr>\n",
       "      <th>min</th>\n",
       "      <td>5.000000</td>\n",
       "      <td>0.000000e+00</td>\n",
       "      <td>0.000000e+00</td>\n",
       "      <td>0.000000</td>\n",
       "      <td>1.500000</td>\n",
       "    </tr>\n",
       "    <tr>\n",
       "      <th>25%</th>\n",
       "      <td>10570.500000</td>\n",
       "      <td>0.000000e+00</td>\n",
       "      <td>0.000000e+00</td>\n",
       "      <td>90.000000</td>\n",
       "      <td>5.400000</td>\n",
       "    </tr>\n",
       "    <tr>\n",
       "      <th>50%</th>\n",
       "      <td>20460.000000</td>\n",
       "      <td>0.000000e+00</td>\n",
       "      <td>0.000000e+00</td>\n",
       "      <td>99.000000</td>\n",
       "      <td>6.000000</td>\n",
       "    </tr>\n",
       "    <tr>\n",
       "      <th>75%</th>\n",
       "      <td>74725.250000</td>\n",
       "      <td>1.564374e+07</td>\n",
       "      <td>2.455409e+07</td>\n",
       "      <td>111.250000</td>\n",
       "      <td>6.600000</td>\n",
       "    </tr>\n",
       "    <tr>\n",
       "      <th>max</th>\n",
       "      <td>417859.000000</td>\n",
       "      <td>4.250000e+08</td>\n",
       "      <td>2.781506e+09</td>\n",
       "      <td>900.000000</td>\n",
       "      <td>9.200000</td>\n",
       "    </tr>\n",
       "  </tbody>\n",
       "</table>\n",
       "</div>"
      ],
      "text/plain": [
       "                  id        budget       revenue       runtime  vote_average\n",
       "count   10800.000000  1.080000e+04  1.080000e+04  10800.000000  10800.000000\n",
       "mean    65576.183426  1.471114e+07  4.006558e+07    102.189722      5.970880\n",
       "std     91756.079939  3.098677e+07  1.173193e+08     30.783873      0.933006\n",
       "min         5.000000  0.000000e+00  0.000000e+00      0.000000      1.500000\n",
       "25%     10570.500000  0.000000e+00  0.000000e+00     90.000000      5.400000\n",
       "50%     20460.000000  0.000000e+00  0.000000e+00     99.000000      6.000000\n",
       "75%     74725.250000  1.564374e+07  2.455409e+07    111.250000      6.600000\n",
       "max    417859.000000  4.250000e+08  2.781506e+09    900.000000      9.200000"
      ]
     },
     "execution_count": 12,
     "metadata": {},
     "output_type": "execute_result"
    }
   ],
   "source": [
    "df.describe()\n",
    "# there are 3 columns with min 0 value that means at least this column has 1 zero value"
   ]
  },
  {
   "cell_type": "code",
   "execution_count": 13,
   "id": "f4c7472f",
   "metadata": {},
   "outputs": [],
   "source": [
    "#to fix that we will replace zeros with mean\n",
    "df['budget'] = df['budget'].replace(0,df['budget'].mean())\n",
    "df['revenue'] = df['revenue'].replace(0,df['revenue'].mean())\n",
    "df['runtime'] = df['runtime'].replace(0,df['runtime'].mean())"
   ]
  },
  {
   "cell_type": "code",
   "execution_count": 14,
   "id": "7ba1ea81",
   "metadata": {},
   "outputs": [
    {
     "data": {
      "text/html": [
       "<div>\n",
       "<style scoped>\n",
       "    .dataframe tbody tr th:only-of-type {\n",
       "        vertical-align: middle;\n",
       "    }\n",
       "\n",
       "    .dataframe tbody tr th {\n",
       "        vertical-align: top;\n",
       "    }\n",
       "\n",
       "    .dataframe thead th {\n",
       "        text-align: right;\n",
       "    }\n",
       "</style>\n",
       "<table border=\"1\" class=\"dataframe\">\n",
       "  <thead>\n",
       "    <tr style=\"text-align: right;\">\n",
       "      <th></th>\n",
       "      <th>id</th>\n",
       "      <th>budget</th>\n",
       "      <th>revenue</th>\n",
       "      <th>runtime</th>\n",
       "      <th>vote_average</th>\n",
       "    </tr>\n",
       "  </thead>\n",
       "  <tbody>\n",
       "    <tr>\n",
       "      <th>count</th>\n",
       "      <td>10800.000000</td>\n",
       "      <td>1.080000e+04</td>\n",
       "      <td>1.080000e+04</td>\n",
       "      <td>10800.000000</td>\n",
       "      <td>10800.000000</td>\n",
       "    </tr>\n",
       "    <tr>\n",
       "      <th>mean</th>\n",
       "      <td>65576.183426</td>\n",
       "      <td>2.238817e+07</td>\n",
       "      <td>6.214616e+07</td>\n",
       "      <td>102.454659</td>\n",
       "      <td>5.970880</td>\n",
       "    </tr>\n",
       "    <tr>\n",
       "      <th>std</th>\n",
       "      <td>91756.079939</td>\n",
       "      <td>2.807649e+07</td>\n",
       "      <td>1.113169e+08</td>\n",
       "      <td>30.339749</td>\n",
       "      <td>0.933006</td>\n",
       "    </tr>\n",
       "    <tr>\n",
       "      <th>min</th>\n",
       "      <td>5.000000</td>\n",
       "      <td>1.000000e+00</td>\n",
       "      <td>2.000000e+00</td>\n",
       "      <td>2.000000</td>\n",
       "      <td>1.500000</td>\n",
       "    </tr>\n",
       "    <tr>\n",
       "      <th>25%</th>\n",
       "      <td>10570.500000</td>\n",
       "      <td>1.471114e+07</td>\n",
       "      <td>4.006558e+07</td>\n",
       "      <td>90.000000</td>\n",
       "      <td>5.400000</td>\n",
       "    </tr>\n",
       "    <tr>\n",
       "      <th>50%</th>\n",
       "      <td>20460.000000</td>\n",
       "      <td>1.471114e+07</td>\n",
       "      <td>4.006558e+07</td>\n",
       "      <td>99.000000</td>\n",
       "      <td>6.000000</td>\n",
       "    </tr>\n",
       "    <tr>\n",
       "      <th>75%</th>\n",
       "      <td>74725.250000</td>\n",
       "      <td>1.564374e+07</td>\n",
       "      <td>4.006558e+07</td>\n",
       "      <td>111.250000</td>\n",
       "      <td>6.600000</td>\n",
       "    </tr>\n",
       "    <tr>\n",
       "      <th>max</th>\n",
       "      <td>417859.000000</td>\n",
       "      <td>4.250000e+08</td>\n",
       "      <td>2.781506e+09</td>\n",
       "      <td>900.000000</td>\n",
       "      <td>9.200000</td>\n",
       "    </tr>\n",
       "  </tbody>\n",
       "</table>\n",
       "</div>"
      ],
      "text/plain": [
       "                  id        budget       revenue       runtime  vote_average\n",
       "count   10800.000000  1.080000e+04  1.080000e+04  10800.000000  10800.000000\n",
       "mean    65576.183426  2.238817e+07  6.214616e+07    102.454659      5.970880\n",
       "std     91756.079939  2.807649e+07  1.113169e+08     30.339749      0.933006\n",
       "min         5.000000  1.000000e+00  2.000000e+00      2.000000      1.500000\n",
       "25%     10570.500000  1.471114e+07  4.006558e+07     90.000000      5.400000\n",
       "50%     20460.000000  1.471114e+07  4.006558e+07     99.000000      6.000000\n",
       "75%     74725.250000  1.564374e+07  4.006558e+07    111.250000      6.600000\n",
       "max    417859.000000  4.250000e+08  2.781506e+09    900.000000      9.200000"
      ]
     },
     "execution_count": 14,
     "metadata": {},
     "output_type": "execute_result"
    }
   ],
   "source": [
    "df.describe()"
   ]
  },
  {
   "cell_type": "markdown",
   "id": "ff46efbd",
   "metadata": {},
   "source": [
    "## Outliers"
   ]
  },
  {
   "cell_type": "code",
   "execution_count": 15,
   "id": "f8c352e9",
   "metadata": {
    "scrolled": true
   },
   "outputs": [
    {
     "data": {
      "image/png": "[encoded data removed]",
      "text/plain": [
       "<Figure size 432x288 with 1 Axes>"
      ]
     },
     "metadata": {
      "needs_background": "light"
     },
     "output_type": "display_data"
    }
   ],
   "source": [
    "#we need to see if there's outlier value\n",
    "plt.scatter(df['runtime'].index,df['runtime'])\n",
    "plt.xlabel(\"Runtime\")\n",
    "plt.ylabel(\"Runtime index\")\n",
    "plt.title(\"the out liers of Runtime\");"
   ]
  },
  {
   "cell_type": "markdown",
   "id": "47d30428",
   "metadata": {},
   "source": [
    "### it seems that we have some out liers here, most of them above 200 mins we need to deal with that"
   ]
  },
  {
   "cell_type": "code",
   "execution_count": 16,
   "id": "0bd9d4aa",
   "metadata": {
    "scrolled": false
   },
   "outputs": [
    {
     "data": {
      "text/plain": [
       "count    10800.000000\n",
       "mean       102.454659\n",
       "std         30.339749\n",
       "min          2.000000\n",
       "25%         90.000000\n",
       "50%         99.000000\n",
       "75%        111.250000\n",
       "max        900.000000\n",
       "Name: runtime, dtype: float64"
      ]
     },
     "execution_count": 16,
     "metadata": {},
     "output_type": "execute_result"
    }
   ],
   "source": [
    "df['runtime'].describe()"
   ]
  },
  {
   "cell_type": "code",
   "execution_count": 17,
   "id": "19786fef",
   "metadata": {
    "scrolled": false
   },
   "outputs": [],
   "source": [
    "#we will put a threshold by 3 std from mean\n",
    "up_limit = df['runtime'].mean() + (df['runtime'].std()*3)\n",
    "down_limit = df['runtime'].mean() - (df['runtime'].std()*3)"
   ]
  },
  {
   "cell_type": "code",
   "execution_count": 18,
   "id": "2b0e9125",
   "metadata": {},
   "outputs": [],
   "source": [
    "#and now we need to loc the outlier\n",
    "df.loc[(df['runtime']>= up_limit),'runtime'] = np.NaN\n",
    "df.loc[(df['runtime']<= down_limit),'runtime'] = np.NaN"
   ]
  },
  {
   "cell_type": "code",
   "execution_count": 19,
   "id": "6739c002",
   "metadata": {},
   "outputs": [],
   "source": [
    "#now time to fill it with mean\n",
    "df['runtime'].fillna(df['runtime'].mean(), inplace = True)"
   ]
  },
  {
   "cell_type": "code",
   "execution_count": 20,
   "id": "d9cb5fb3",
   "metadata": {
    "scrolled": false
   },
   "outputs": [
    {
     "data": {
      "text/plain": [
       "count    10800.000000\n",
       "mean       102.009739\n",
       "std         20.035116\n",
       "min         12.000000\n",
       "25%         90.000000\n",
       "50%         99.000000\n",
       "75%        111.000000\n",
       "max        193.000000\n",
       "Name: runtime, dtype: float64"
      ]
     },
     "execution_count": 20,
     "metadata": {},
     "output_type": "execute_result"
    }
   ],
   "source": [
    "#just check\n",
    "df['runtime'].describe()"
   ]
  },
  {
   "cell_type": "code",
   "execution_count": 21,
   "id": "74ddc1be",
   "metadata": {
    "scrolled": false
   },
   "outputs": [
    {
     "data": {
      "image/png": "[encoded data removed]",
      "text/plain": [
       "<Figure size 432x288 with 1 Axes>"
      ]
     },
     "metadata": {
      "needs_background": "light"
     },
     "output_type": "display_data"
    }
   ],
   "source": [
    "#we need to see if there's outlier value\n",
    "plt.scatter(df['revenue'].index,df['revenue'])\n",
    "plt.xlabel(\"Revenue\")\n",
    "plt.ylabel(\"Revenue index\")\n",
    "plt.title(\"the out liers of Revenue\");"
   ]
  },
  {
   "cell_type": "markdown",
   "id": "9d8e9525",
   "metadata": {},
   "source": [
    "### I think we are good here, some movies get profit more away than the others, so we don't have outliers here."
   ]
  },
  {
   "cell_type": "code",
   "execution_count": 22,
   "id": "664681ea",
   "metadata": {
    "scrolled": true
   },
   "outputs": [
    {
     "data": {
      "image/png": "[encoded data removed]",
      "text/plain": [
       "<Figure size 432x288 with 1 Axes>"
      ]
     },
     "metadata": {
      "needs_background": "light"
     },
     "output_type": "display_data"
    }
   ],
   "source": [
    "#we need to see if there's outliers value\n",
    "plt.scatter(df['budget'].index,df['budget'])\n",
    "plt.xlabel(\"Budget\")\n",
    "plt.ylabel(\"Budget index\")\n",
    "plt.title(\"the out liers of Budget\");"
   ]
  },
  {
   "cell_type": "markdown",
   "id": "a57983b9",
   "metadata": {},
   "source": [
    "### I think we are good here, some movies cost more than the othersو so we don't have outliers here."
   ]
  },
  {
   "cell_type": "markdown",
   "id": "d2913cbb",
   "metadata": {},
   "source": [
    "# Q1: Is there a correlation  between runtime and average vote?"
   ]
  },
  {
   "cell_type": "code",
   "execution_count": 23,
   "id": "414f0ec4",
   "metadata": {
    "scrolled": true
   },
   "outputs": [
    {
     "data": {
      "image/png": "[encoded data removed]",
      "text/plain": [
       "<Figure size 432x288 with 1 Axes>"
      ]
     },
     "metadata": {
      "needs_background": "light"
     },
     "output_type": "display_data"
    }
   ],
   "source": [
    "#to answer that we will plot them\n",
    "plt.scatter(df['vote_average'],df['runtime'])\n",
    "plt.xlabel(\"Vote Average\")\n",
    "plt.ylabel(\"Runtime\")\n",
    "plt.title(\"the correlation between runtime and average vote\");"
   ]
  },
  {
   "cell_type": "markdown",
   "id": "c97eaf3c",
   "metadata": {},
   "source": [
    "### Clearly there's no correlation, there's a lot of movies under 50 mins get high vote ad also many of above 125 get high vite too"
   ]
  },
  {
   "cell_type": "markdown",
   "id": "429cc9fb",
   "metadata": {},
   "source": [
    "# Q2: What is the most common genre? and in top 100?"
   ]
  },
  {
   "cell_type": "code",
   "execution_count": 24,
   "id": "c4c3c851",
   "metadata": {},
   "outputs": [],
   "source": [
    "#to answer that we need collect all genres in one dict with all values and keys\n",
    "genres_dict = dict(collections.Counter(df_genres['genre_1'].value_counts().to_dict()) +\n",
    "              collections.Counter(df_genres['genre_2'].value_counts().to_dict()) + \n",
    "              collections.Counter(df_genres['genre_3'].value_counts().to_dict()) + \n",
    "              collections.Counter(df_genres['genre_4'].value_counts().to_dict()) + \n",
    "              collections.Counter(df_genres['genre_5'].value_counts().to_dict())\n",
    "             )"
   ]
  },
  {
   "cell_type": "code",
   "execution_count": 25,
   "id": "acad29c2",
   "metadata": {},
   "outputs": [
    {
     "data": {
      "image/png": "[encoded data removed]",
      "text/plain": [
       "<Figure size 432x288 with 1 Axes>"
      ]
     },
     "metadata": {
      "needs_background": "light"
     },
     "output_type": "display_data"
    }
   ],
   "source": [
    "#ploting the result\n",
    "genres_list = list(genres_dict.keys())\n",
    "plt.bar(genres_dict.keys(),genres_dict.values())\n",
    "plt.xticks(rotation=90)\n",
    "plt.ylabel(\"Values of genres\")\n",
    "plt.title('Number of each genres in top 100 movies');"
   ]
  },
  {
   "cell_type": "markdown",
   "id": "c5590694",
   "metadata": {},
   "source": [
    "### Drama is the most common genre in all datasets, it's far from any genres"
   ]
  },
  {
   "cell_type": "code",
   "execution_count": 26,
   "id": "941f96ec",
   "metadata": {},
   "outputs": [],
   "source": [
    "#lets create a function we can use to get the key by value\n",
    "def get_key(d, v):\n",
    "    #return the key of value v from dict d\n",
    "    for key, val in d.items():\n",
    "        if v == val:\n",
    "            return key"
   ]
  },
  {
   "cell_type": "markdown",
   "id": "97f666ea",
   "metadata": {},
   "source": [
    "### The Drama is the most common genre in all movies"
   ]
  },
  {
   "cell_type": "code",
   "execution_count": 27,
   "id": "950b45b5",
   "metadata": {},
   "outputs": [
    {
     "data": {
      "text/plain": [
       "\"There's 4754 Drama Movies and only 162 TV Movie movies\""
      ]
     },
     "execution_count": 27,
     "metadata": {},
     "output_type": "execute_result"
    }
   ],
   "source": [
    "\"There's {} {} Movies and only {} {} movies\".format(max(genres_dict.values()),\n",
    "                                                        get_key(genres_dict,max(genres_dict.values())),\n",
    "                                                        min(genres_dict.values()),\n",
    "                                                        get_key(genres_dict,min(genres_dict.values()))\n",
    "                                                   )"
   ]
  },
  {
   "cell_type": "code",
   "execution_count": 28,
   "id": "5f907910",
   "metadata": {},
   "outputs": [],
   "source": [
    "#lets see in top 100\n",
    "#first we need to add [vote_average] to df_genres\n",
    "df_genres = df_genres.join(df['vote_average'])"
   ]
  },
  {
   "cell_type": "code",
   "execution_count": 29,
   "id": "28f71bd1",
   "metadata": {},
   "outputs": [
    {
     "data": {
      "text/html": [
       "<div>\n",
       "<style scoped>\n",
       "    .dataframe tbody tr th:only-of-type {\n",
       "        vertical-align: middle;\n",
       "    }\n",
       "\n",
       "    .dataframe tbody tr th {\n",
       "        vertical-align: top;\n",
       "    }\n",
       "\n",
       "    .dataframe thead th {\n",
       "        text-align: right;\n",
       "    }\n",
       "</style>\n",
       "<table border=\"1\" class=\"dataframe\">\n",
       "  <thead>\n",
       "    <tr style=\"text-align: right;\">\n",
       "      <th></th>\n",
       "      <th>genre_1</th>\n",
       "      <th>genre_2</th>\n",
       "      <th>genre_3</th>\n",
       "      <th>genre_4</th>\n",
       "      <th>genre_5</th>\n",
       "      <th>original_title</th>\n",
       "      <th>vote_average</th>\n",
       "    </tr>\n",
       "  </thead>\n",
       "  <tbody>\n",
       "    <tr>\n",
       "      <th>6170</th>\n",
       "      <td>Drama</td>\n",
       "      <td>Family</td>\n",
       "      <td>None</td>\n",
       "      <td>None</td>\n",
       "      <td>None</td>\n",
       "      <td>Anne of Green Gables</td>\n",
       "      <td>7.9</td>\n",
       "    </tr>\n",
       "    <tr>\n",
       "      <th>1105</th>\n",
       "      <td>Documentary</td>\n",
       "      <td>None</td>\n",
       "      <td>None</td>\n",
       "      <td>None</td>\n",
       "      <td>None</td>\n",
       "      <td>Interstellar: Nolan's Odyssey</td>\n",
       "      <td>7.9</td>\n",
       "    </tr>\n",
       "    <tr>\n",
       "      <th>7310</th>\n",
       "      <td>Horror</td>\n",
       "      <td>Thriller</td>\n",
       "      <td>None</td>\n",
       "      <td>None</td>\n",
       "      <td>None</td>\n",
       "      <td>The Shining</td>\n",
       "      <td>7.9</td>\n",
       "    </tr>\n",
       "    <tr>\n",
       "      <th>7888</th>\n",
       "      <td>Drama</td>\n",
       "      <td>Crime</td>\n",
       "      <td>None</td>\n",
       "      <td>None</td>\n",
       "      <td>None</td>\n",
       "      <td>Once Upon a Time in America</td>\n",
       "      <td>7.9</td>\n",
       "    </tr>\n",
       "    <tr>\n",
       "      <th>10144</th>\n",
       "      <td>Comedy</td>\n",
       "      <td>Drama</td>\n",
       "      <td>Romance</td>\n",
       "      <td>None</td>\n",
       "      <td>None</td>\n",
       "      <td>The Apartment</td>\n",
       "      <td>7.9</td>\n",
       "    </tr>\n",
       "    <tr>\n",
       "      <th>...</th>\n",
       "      <td>...</td>\n",
       "      <td>...</td>\n",
       "      <td>...</td>\n",
       "      <td>...</td>\n",
       "      <td>...</td>\n",
       "      <td>...</td>\n",
       "      <td>...</td>\n",
       "    </tr>\n",
       "    <tr>\n",
       "      <th>6911</th>\n",
       "      <td>Music</td>\n",
       "      <td>None</td>\n",
       "      <td>None</td>\n",
       "      <td>None</td>\n",
       "      <td>None</td>\n",
       "      <td>Pink Floyd: Pulse</td>\n",
       "      <td>8.7</td>\n",
       "    </tr>\n",
       "    <tr>\n",
       "      <th>2269</th>\n",
       "      <td>Documentary</td>\n",
       "      <td>None</td>\n",
       "      <td>None</td>\n",
       "      <td>None</td>\n",
       "      <td>None</td>\n",
       "      <td>Life Cycles</td>\n",
       "      <td>8.8</td>\n",
       "    </tr>\n",
       "    <tr>\n",
       "      <th>1200</th>\n",
       "      <td>Drama</td>\n",
       "      <td>Horror</td>\n",
       "      <td>Mystery</td>\n",
       "      <td>Science Fiction</td>\n",
       "      <td>Thriller</td>\n",
       "      <td>Black Mirror: White Christmas</td>\n",
       "      <td>8.8</td>\n",
       "    </tr>\n",
       "    <tr>\n",
       "      <th>538</th>\n",
       "      <td>Documentary</td>\n",
       "      <td>None</td>\n",
       "      <td>None</td>\n",
       "      <td>None</td>\n",
       "      <td>None</td>\n",
       "      <td>The Mask You Live In</td>\n",
       "      <td>8.9</td>\n",
       "    </tr>\n",
       "    <tr>\n",
       "      <th>3894</th>\n",
       "      <td>Documentary</td>\n",
       "      <td>None</td>\n",
       "      <td>None</td>\n",
       "      <td>None</td>\n",
       "      <td>None</td>\n",
       "      <td>The Story of Film: An Odyssey</td>\n",
       "      <td>9.2</td>\n",
       "    </tr>\n",
       "  </tbody>\n",
       "</table>\n",
       "<p>100 rows × 7 columns</p>\n",
       "</div>"
      ],
      "text/plain": [
       "           genre_1   genre_2  genre_3          genre_4   genre_5  \\\n",
       "6170         Drama    Family     None             None      None   \n",
       "1105   Documentary      None     None             None      None   \n",
       "7310        Horror  Thriller     None             None      None   \n",
       "7888         Drama     Crime     None             None      None   \n",
       "10144       Comedy     Drama  Romance             None      None   \n",
       "...            ...       ...      ...              ...       ...   \n",
       "6911         Music      None     None             None      None   \n",
       "2269   Documentary      None     None             None      None   \n",
       "1200         Drama    Horror  Mystery  Science Fiction  Thriller   \n",
       "538    Documentary      None     None             None      None   \n",
       "3894   Documentary      None     None             None      None   \n",
       "\n",
       "                      original_title  vote_average  \n",
       "6170            Anne of Green Gables           7.9  \n",
       "1105   Interstellar: Nolan's Odyssey           7.9  \n",
       "7310                     The Shining           7.9  \n",
       "7888     Once Upon a Time in America           7.9  \n",
       "10144                  The Apartment           7.9  \n",
       "...                              ...           ...  \n",
       "6911               Pink Floyd: Pulse           8.7  \n",
       "2269                     Life Cycles           8.8  \n",
       "1200   Black Mirror: White Christmas           8.8  \n",
       "538             The Mask You Live In           8.9  \n",
       "3894   The Story of Film: An Odyssey           9.2  \n",
       "\n",
       "[100 rows x 7 columns]"
      ]
     },
     "execution_count": 29,
     "metadata": {},
     "output_type": "execute_result"
    }
   ],
   "source": [
    "#now lets see top 100\n",
    "df_top_100 = df_genres.sort_values('vote_average').tail(100)\n",
    "df_top_100"
   ]
  },
  {
   "cell_type": "code",
   "execution_count": 30,
   "id": "634ba7ba",
   "metadata": {},
   "outputs": [],
   "source": [
    "#create a dict with genres as keys and number of each gener in top 100 as a values\n",
    "genres_dict = dict(collections.Counter(df_top_100['genre_1'].value_counts().to_dict()) +\n",
    "              collections.Counter(df_top_100['genre_2'].value_counts().to_dict()) + \n",
    "              collections.Counter(df_top_100['genre_3'].value_counts().to_dict()) + \n",
    "              collections.Counter(df_top_100['genre_4'].value_counts().to_dict()) + \n",
    "              collections.Counter(df_top_100['genre_5'].value_counts().to_dict())\n",
    "             )"
   ]
  },
  {
   "cell_type": "code",
   "execution_count": 31,
   "id": "e3ac3cae",
   "metadata": {},
   "outputs": [
    {
     "data": {
      "image/png": "[encoded data removed]",
      "text/plain": [
       "<Figure size 432x288 with 1 Axes>"
      ]
     },
     "metadata": {
      "needs_background": "light"
     },
     "output_type": "display_data"
    }
   ],
   "source": [
    "#ploting the dict\n",
    "plt.bar(genres_dict.keys(),genres_dict.values())\n",
    "plt.xticks(rotation=90)\n",
    "plt.ylabel(\"Values of genres\")\n",
    "plt.title('Number of each gener in top 100');"
   ]
  },
  {
   "cell_type": "markdown",
   "id": "6bb047d6",
   "metadata": {},
   "source": [
    "### I didn't see that coming, Documentary is most common genre in top 100!"
   ]
  },
  {
   "cell_type": "code",
   "execution_count": 32,
   "id": "69fa0f94",
   "metadata": {},
   "outputs": [
    {
     "data": {
      "text/plain": [
       "\"There's 38 Documentary Movies and only 2 History movies\""
      ]
     },
     "execution_count": 32,
     "metadata": {},
     "output_type": "execute_result"
    }
   ],
   "source": [
    "\"There's {} {} Movies and only {} {} movies\".format(max(genres_dict.values()),\n",
    "                                                        get_key(genres_dict,max(genres_dict.values())),\n",
    "                                                        min(genres_dict.values()),\n",
    "                                                        get_key(genres_dict,min(genres_dict.values()))\n",
    "                                                   )"
   ]
  },
  {
   "cell_type": "markdown",
   "id": "d0ecd188",
   "metadata": {},
   "source": [
    "# Q3: Which genre cost the much? and which doesn't?"
   ]
  },
  {
   "cell_type": "code",
   "execution_count": 33,
   "id": "1ddd9b9b",
   "metadata": {},
   "outputs": [],
   "source": [
    "#we need to add ['budget'] column to df_genres\n",
    "df_genres = df_genres.join(df['budget'])"
   ]
  },
  {
   "cell_type": "code",
   "execution_count": 34,
   "id": "9694933f",
   "metadata": {
    "scrolled": true
   },
   "outputs": [],
   "source": [
    "#create a dict with a genres as a keys and empty list as values\n",
    "gens_list = list(genres_dict.keys())\n",
    "gens_dict = dict.fromkeys(gens_list,[])"
   ]
  },
  {
   "cell_type": "code",
   "execution_count": 35,
   "id": "dbc002e8",
   "metadata": {},
   "outputs": [
    {
     "name": "stderr",
     "output_type": "stream",
     "text": [
      "C:\\Users\\ammar\\anaconda3\\lib\\site-packages\\pandas\\util\\_decorators.py:311: SettingWithCopyWarning: \n",
      "A value is trying to be set on a copy of a slice from a DataFrame\n",
      "\n",
      "See the caveats in the documentation: https://pandas.pydata.org/pandas-docs/stable/user_guide/indexing.html#returning-a-view-versus-a-copy\n",
      "  return func(*args, **kwargs)\n"
     ]
    }
   ],
   "source": [
    "#add the vaules to dict\n",
    "for gen in gens_dict:\n",
    "    df_genres_a = df_genres.loc[(df_genres['genre_1'] == gen)]\n",
    "    df_genres_a.sort_values('vote_average',inplace = True)\n",
    "    gens_dict.update({gen:df_genres_a['budget'].tail(5).sum()})"
   ]
  },
  {
   "cell_type": "code",
   "execution_count": 36,
   "id": "55dea924",
   "metadata": {},
   "outputs": [
    {
     "data": {
      "image/png": "[encoded data removed]",
      "text/plain": [
       "<Figure size 432x288 with 1 Axes>"
      ]
     },
     "metadata": {
      "needs_background": "light"
     },
     "output_type": "display_data"
    }
   ],
   "source": [
    "#time for plot\n",
    "plt.bar(gens_dict.keys(),gens_dict.values())\n",
    "plt.title('How much each genre cost for 5 high vote movies')\n",
    "plt.xticks(rotation=90)\n",
    "plt.ylabel(\"The cost values\");"
   ]
  },
  {
   "cell_type": "markdown",
   "id": "06fdd4ed",
   "metadata": {},
   "source": [
    "### Action is cost a lot between all genres in top 5 for every genre."
   ]
  },
  {
   "cell_type": "code",
   "execution_count": 37,
   "id": "46f9d92b",
   "metadata": {},
   "outputs": [
    {
     "data": {
      "text/plain": [
       "'The top 5 movies in Action genre is cost 416087937$, while the top 5 movies in Drama cots 53011137$.'"
      ]
     },
     "execution_count": 37,
     "metadata": {},
     "output_type": "execute_result"
    }
   ],
   "source": [
    "\"The top 5 movies in {} genre is cost {}$, while the top 5 movies in {} cots {}$.\".format(\n",
    "    get_key(gens_dict,max(gens_dict.values())),\n",
    "    round(max(gens_dict.values())),\n",
    "    get_key(gens_dict,min(gens_dict.values())),\n",
    "    round(min(gens_dict.values())))"
   ]
  },
  {
   "cell_type": "markdown",
   "id": "6da45994",
   "metadata": {},
   "source": [
    "# Q4: Is there a correlation between cost and revenue in top 100?"
   ]
  },
  {
   "cell_type": "code",
   "execution_count": 38,
   "id": "5a3b9132",
   "metadata": {},
   "outputs": [],
   "source": [
    "# we need to add 2 columns ['budget'] and ['revenue']\n",
    "df_top_100 = df_top_100.join(df['budget']).join(df['revenue'])"
   ]
  },
  {
   "cell_type": "code",
   "execution_count": 39,
   "id": "d7bd66e3",
   "metadata": {},
   "outputs": [
    {
     "data": {
      "image/png": "[encoded data removed]",
      "text/plain": [
       "<Figure size 432x288 with 1 Axes>"
      ]
     },
     "metadata": {
      "needs_background": "light"
     },
     "output_type": "display_data"
    }
   ],
   "source": [
    "df_top_100.sort_values('revenue').plot('budget','revenue')\n",
    "plt.title('Relationship between Budget & Revenue')\n",
    "plt.ylabel(\"Revenue\")\n",
    "plt.xlabel(\"Budget\");"
   ]
  },
  {
   "cell_type": "markdown",
   "id": "d5ab88c2",
   "metadata": {},
   "source": [
    "### Yes there's a positive correlation between Budget and Revenue, I can see clearly that there's a correlation between them, as the Budget raise the Revenue raise also, for sure there's some out liers, but the main idea is that there's a correlation."
   ]
  },
  {
   "cell_type": "markdown",
   "id": "8fcd5aab",
   "metadata": {},
   "source": [
    "# Q5: What is the lowest budget movie in every year for past 10 years?"
   ]
  },
  {
   "cell_type": "code",
   "execution_count": 40,
   "id": "aa80fc0d",
   "metadata": {},
   "outputs": [],
   "source": [
    "#we need to put range of 10 in df\n",
    "max_year = df['release_date'].dt.year.max()\n",
    "df_last_10 = df.loc[(df['release_date'].dt.year > (max_year-10)) & (df['release_date'].dt.year <= max_year)]"
   ]
  },
  {
   "cell_type": "code",
   "execution_count": 41,
   "id": "28a52d0f",
   "metadata": {},
   "outputs": [
    {
     "data": {
      "text/html": [
       "<div>\n",
       "<style scoped>\n",
       "    .dataframe tbody tr th:only-of-type {\n",
       "        vertical-align: middle;\n",
       "    }\n",
       "\n",
       "    .dataframe tbody tr th {\n",
       "        vertical-align: top;\n",
       "    }\n",
       "\n",
       "    .dataframe thead th {\n",
       "        text-align: right;\n",
       "    }\n",
       "</style>\n",
       "<table border=\"1\" class=\"dataframe\">\n",
       "  <thead>\n",
       "    <tr style=\"text-align: right;\">\n",
       "      <th></th>\n",
       "      <th>id</th>\n",
       "      <th>budget</th>\n",
       "      <th>revenue</th>\n",
       "      <th>original_title</th>\n",
       "      <th>director</th>\n",
       "      <th>runtime</th>\n",
       "      <th>genres</th>\n",
       "      <th>vote_average</th>\n",
       "      <th>release_date</th>\n",
       "    </tr>\n",
       "    <tr>\n",
       "      <th>release_date</th>\n",
       "      <th></th>\n",
       "      <th></th>\n",
       "      <th></th>\n",
       "      <th></th>\n",
       "      <th></th>\n",
       "      <th></th>\n",
       "      <th></th>\n",
       "      <th></th>\n",
       "      <th></th>\n",
       "    </tr>\n",
       "  </thead>\n",
       "  <tbody>\n",
       "    <tr>\n",
       "      <th>2006</th>\n",
       "      <td>17</td>\n",
       "      <td>2500.0</td>\n",
       "      <td>144.0</td>\n",
       "      <td>10 Items or Less</td>\n",
       "      <td>Aaron Seltzer|Jason Friedberg</td>\n",
       "      <td>14.0</td>\n",
       "      <td>Action</td>\n",
       "      <td>2.8</td>\n",
       "      <td>2006-01-01</td>\n",
       "    </tr>\n",
       "    <tr>\n",
       "      <th>2007</th>\n",
       "      <td>35</td>\n",
       "      <td>12.0</td>\n",
       "      <td>46.0</td>\n",
       "      <td>1408</td>\n",
       "      <td>Adam Shankman</td>\n",
       "      <td>13.0</td>\n",
       "      <td>Action</td>\n",
       "      <td>1.5</td>\n",
       "      <td>2007-01-01</td>\n",
       "    </tr>\n",
       "    <tr>\n",
       "      <th>2008</th>\n",
       "      <td>155</td>\n",
       "      <td>1.0</td>\n",
       "      <td>3.0</td>\n",
       "      <td>$5 a Day</td>\n",
       "      <td>A.R. Murugadoss</td>\n",
       "      <td>12.0</td>\n",
       "      <td>Action</td>\n",
       "      <td>2.6</td>\n",
       "      <td>2008-01-01</td>\n",
       "    </tr>\n",
       "    <tr>\n",
       "      <th>2009</th>\n",
       "      <td>534</td>\n",
       "      <td>75.0</td>\n",
       "      <td>80.0</td>\n",
       "      <td>(500) Days of Summer</td>\n",
       "      <td>Abel Ferry</td>\n",
       "      <td>16.0</td>\n",
       "      <td>Action</td>\n",
       "      <td>3.1</td>\n",
       "      <td>2009-01-01</td>\n",
       "    </tr>\n",
       "    <tr>\n",
       "      <th>2010</th>\n",
       "      <td>7978</td>\n",
       "      <td>3.0</td>\n",
       "      <td>10.0</td>\n",
       "      <td>127 Hours</td>\n",
       "      <td>Aaron Schneider</td>\n",
       "      <td>12.0</td>\n",
       "      <td>Action</td>\n",
       "      <td>2.1</td>\n",
       "      <td>2010-01-01</td>\n",
       "    </tr>\n",
       "    <tr>\n",
       "      <th>2011</th>\n",
       "      <td>1771</td>\n",
       "      <td>1.0</td>\n",
       "      <td>15.0</td>\n",
       "      <td>10 Years</td>\n",
       "      <td>FrÃ©dÃ©ric Jardin</td>\n",
       "      <td>13.0</td>\n",
       "      <td>Action</td>\n",
       "      <td>2.1</td>\n",
       "      <td>2011-01-01</td>\n",
       "    </tr>\n",
       "    <tr>\n",
       "      <th>2012</th>\n",
       "      <td>1930</td>\n",
       "      <td>17.0</td>\n",
       "      <td>30.0</td>\n",
       "      <td>100 Bloody Acres</td>\n",
       "      <td>Adam Shankman</td>\n",
       "      <td>12.0</td>\n",
       "      <td>Action</td>\n",
       "      <td>2.0</td>\n",
       "      <td>2012-01-01</td>\n",
       "    </tr>\n",
       "    <tr>\n",
       "      <th>2013</th>\n",
       "      <td>4258</td>\n",
       "      <td>10.0</td>\n",
       "      <td>11.0</td>\n",
       "      <td>1</td>\n",
       "      <td>Abe Levy|Silver Tree</td>\n",
       "      <td>15.0</td>\n",
       "      <td>Action</td>\n",
       "      <td>2.2</td>\n",
       "      <td>2013-01-01</td>\n",
       "    </tr>\n",
       "    <tr>\n",
       "      <th>2014</th>\n",
       "      <td>189</td>\n",
       "      <td>1.0</td>\n",
       "      <td>2710.0</td>\n",
       "      <td>'71</td>\n",
       "      <td>Aaron Katz|Martha Stephens</td>\n",
       "      <td>14.0</td>\n",
       "      <td>Action</td>\n",
       "      <td>2.4</td>\n",
       "      <td>2014-01-01</td>\n",
       "    </tr>\n",
       "    <tr>\n",
       "      <th>2015</th>\n",
       "      <td>10317</td>\n",
       "      <td>10.0</td>\n",
       "      <td>4444.0</td>\n",
       "      <td>12 Gifts of Christmas</td>\n",
       "      <td>A. Todd Smith</td>\n",
       "      <td>14.0</td>\n",
       "      <td>Action</td>\n",
       "      <td>2.4</td>\n",
       "      <td>2015-01-01</td>\n",
       "    </tr>\n",
       "  </tbody>\n",
       "</table>\n",
       "</div>"
      ],
      "text/plain": [
       "                 id  budget  revenue         original_title  \\\n",
       "release_date                                                  \n",
       "2006             17  2500.0    144.0       10 Items or Less   \n",
       "2007             35    12.0     46.0                   1408   \n",
       "2008            155     1.0      3.0               $5 a Day   \n",
       "2009            534    75.0     80.0   (500) Days of Summer   \n",
       "2010           7978     3.0     10.0              127 Hours   \n",
       "2011           1771     1.0     15.0               10 Years   \n",
       "2012           1930    17.0     30.0       100 Bloody Acres   \n",
       "2013           4258    10.0     11.0                      1   \n",
       "2014            189     1.0   2710.0                    '71   \n",
       "2015          10317    10.0   4444.0  12 Gifts of Christmas   \n",
       "\n",
       "                                   director  runtime  genres  vote_average  \\\n",
       "release_date                                                                 \n",
       "2006          Aaron Seltzer|Jason Friedberg     14.0  Action           2.8   \n",
       "2007                          Adam Shankman     13.0  Action           1.5   \n",
       "2008                        A.R. Murugadoss     12.0  Action           2.6   \n",
       "2009                             Abel Ferry     16.0  Action           3.1   \n",
       "2010                        Aaron Schneider     12.0  Action           2.1   \n",
       "2011                      FrÃ©dÃ©ric Jardin     13.0  Action           2.1   \n",
       "2012                          Adam Shankman     12.0  Action           2.0   \n",
       "2013                   Abe Levy|Silver Tree     15.0  Action           2.2   \n",
       "2014             Aaron Katz|Martha Stephens     14.0  Action           2.4   \n",
       "2015                          A. Todd Smith     14.0  Action           2.4   \n",
       "\n",
       "             release_date  \n",
       "release_date               \n",
       "2006           2006-01-01  \n",
       "2007           2007-01-01  \n",
       "2008           2008-01-01  \n",
       "2009           2009-01-01  \n",
       "2010           2010-01-01  \n",
       "2011           2011-01-01  \n",
       "2012           2012-01-01  \n",
       "2013           2013-01-01  \n",
       "2014           2014-01-01  \n",
       "2015           2015-01-01  "
      ]
     },
     "execution_count": 41,
     "metadata": {},
     "output_type": "execute_result"
    }
   ],
   "source": [
    "#now we are going to groupby the year and min function to get the lowest budget for every year\n",
    "df_last_10.groupby(df_last_10['release_date'].dt.year).min()"
   ]
  },
  {
   "cell_type": "markdown",
   "id": "a4d1a65d",
   "metadata": {},
   "source": [
    "# Q6: What is the highest profit movie the list?"
   ]
  },
  {
   "cell_type": "code",
   "execution_count": 42,
   "id": "135e3e24",
   "metadata": {},
   "outputs": [],
   "source": [
    "#we need to create a column called ['profit'] where we are going to subtract the revenue from budget\n",
    "df['profit'] = df['revenue'] - df['budget']"
   ]
  },
  {
   "cell_type": "code",
   "execution_count": 43,
   "id": "db028443",
   "metadata": {},
   "outputs": [
    {
     "data": {
      "text/html": [
       "<div>\n",
       "<style scoped>\n",
       "    .dataframe tbody tr th:only-of-type {\n",
       "        vertical-align: middle;\n",
       "    }\n",
       "\n",
       "    .dataframe tbody tr th {\n",
       "        vertical-align: top;\n",
       "    }\n",
       "\n",
       "    .dataframe thead th {\n",
       "        text-align: right;\n",
       "    }\n",
       "</style>\n",
       "<table border=\"1\" class=\"dataframe\">\n",
       "  <thead>\n",
       "    <tr style=\"text-align: right;\">\n",
       "      <th></th>\n",
       "      <th>id</th>\n",
       "      <th>budget</th>\n",
       "      <th>revenue</th>\n",
       "      <th>original_title</th>\n",
       "      <th>director</th>\n",
       "      <th>runtime</th>\n",
       "      <th>genres</th>\n",
       "      <th>vote_average</th>\n",
       "      <th>release_date</th>\n",
       "      <th>profit</th>\n",
       "    </tr>\n",
       "  </thead>\n",
       "  <tbody>\n",
       "    <tr>\n",
       "      <th>1386</th>\n",
       "      <td>19995</td>\n",
       "      <td>237000000.0</td>\n",
       "      <td>2.781506e+09</td>\n",
       "      <td>Avatar</td>\n",
       "      <td>James Cameron</td>\n",
       "      <td>162.0</td>\n",
       "      <td>Action|Adventure|Fantasy|Science Fiction</td>\n",
       "      <td>7.1</td>\n",
       "      <td>2009-10-12</td>\n",
       "      <td>2.544506e+09</td>\n",
       "    </tr>\n",
       "  </tbody>\n",
       "</table>\n",
       "</div>"
      ],
      "text/plain": [
       "         id       budget       revenue original_title       director  runtime  \\\n",
       "1386  19995  237000000.0  2.781506e+09         Avatar  James Cameron    162.0   \n",
       "\n",
       "                                        genres  vote_average release_date  \\\n",
       "1386  Action|Adventure|Fantasy|Science Fiction           7.1   2009-10-12   \n",
       "\n",
       "            profit  \n",
       "1386  2.544506e+09  "
      ]
     },
     "execution_count": 43,
     "metadata": {},
     "output_type": "execute_result"
    }
   ],
   "source": [
    "df.loc[(df['profit'] == df['profit'].max())]"
   ]
  },
  {
   "cell_type": "markdown",
   "id": "1febca29",
   "metadata": {},
   "source": [
    "### no wondering"
   ]
  },
  {
   "cell_type": "markdown",
   "id": "8540fa6f",
   "metadata": {},
   "source": [
    "## Conclusions"
   ]
  },
  {
   "cell_type": "markdown",
   "id": "2ece1b4c",
   "metadata": {},
   "source": [
    "First I thought that there’s a correlation between the Runtime and Average Vote that can get, but I was wrong, and that leads me to the second question.\n",
    " \n",
    "“What is the most common genre? and in top 100?”, I know that could be wired, but we all thought that the most common genre in movies is “Action” but what I found was ‘Drama’ 4754 movie from 10800 movies in the list is for drama, and the rest are for the rest of genres ‘19’, but what about the top 100, and I found that ‘Documentary’ genre is the most in top 100, I think that is why there’s no correlation between the runtime and average vote.\n",
    "\n",
    "Then I wounding is action costs a lot so they don’t produce it a lot like drama, and that was my third question “Which genre cost the much? and which doesn’t?“ and the answer was “yes” action cost a lot that’s why they don’t produce it as drama.\n",
    " \n",
    "Then I asked myself “Is there a correlation between cost and revenue in the top 100?” so if they cost a lot sure they get high profit also, and I found it “Yes” there’s a correlation.\n",
    " \n",
    "I still didn’t get a clear answer to my question if they cost a lot and get high profit why drama is the most common one? so I thought maybe action in the past 10 years costed a lot more than now, so I Sought “What is the lowest budget movie in every year for the past 10 years?” and I found the past 10 is all action.\n",
    " \n",
    "And now for the last question “What is the highest profit movie on the list?“, and it was “Avatar” action also, my conclusion is, maybe people watch drama a lot and give the high vote to Documentary movies but the action movies get the high profit at the end of the day.\n"
   ]
  },
  {
   "cell_type": "markdown",
   "id": "dc886f57",
   "metadata": {},
   "source": [
    "## Limitations "
   ]
  },
  {
   "cell_type": "markdown",
   "id": "051a3c62",
   "metadata": {},
   "source": [
    "we can see that the outliers of the runtime column were unbelievable, some values was over 800 mins and that totally out of any acceptable range, I tried to fill that with a mean of runtime but that makes me think is that a human or machine fault, anyway we just handle that case.\n",
    "\n",
    "the zeros values also were very tricky and need to be detected and replaced, there are many zeros values and that makes you wonder is that missing data or not valuable data or just human fault."
   ]
  }
 ],
 "metadata": {
  "kernelspec": {
   "display_name": "Python 3",
   "language": "python",
   "name": "python3"
  },
  "language_info": {
   "codemirror_mode": {
    "name": "ipython",
    "version": 3
   },
   "file_extension": ".py",
   "mimetype": "text/x-python",
   "name": "python",
   "nbconvert_exporter": "python",
   "pygments_lexer": "ipython3",
   "version": "3.8.8"
  }
 },
 "nbformat": 4,
 "nbformat_minor": 5
}
